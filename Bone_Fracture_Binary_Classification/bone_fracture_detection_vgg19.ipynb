{
 "cells": [
  {
   "cell_type": "code",
   "execution_count": null,
   "metadata": {},
   "outputs": [],
   "source": [
    "import numpy as np\n",
    "import pandas as pd\n",
    "import os\n",
    "import tensorflow\n",
    "from keras.models import Model\n",
    "from keras.applications.vgg16 import VGG16\n",
    "from keras.applications.vgg16 import preprocess_input\n",
    "from keras.preprocessing import image\n",
    "from tensorflow.keras.preprocessing.image import ImageDataGenerator\n",
    "import matplotlib.pyplot as plt\n",
    "from keras.callbacks import ReduceLROnPlateau\n",
    "from keras.layers import Flatten, Dense, Dropout"
   ]
  },
  {
   "cell_type": "code",
   "execution_count": null,
   "metadata": {},
   "outputs": [],
   "source": [
    "Img_size = [224, 224]"
   ]
  },
  {
   "cell_type": "code",
   "execution_count": null,
   "metadata": {},
   "outputs": [],
   "source": [
    "import matplotlib.pyplot as plt\n",
    "import os\n",
    "import random\n",
    "\n",
    "path_1 = [\"fractured\", \"not_fractured\"]\n",
    "random_path=random.choice(path_1)\n",
    "\n",
    "# Klasör yolunu belirtin\n",
    "klasor_yolu = f'C:\\\\Users\\\\batuy\\Documents\\\\VS Code\\\\Bone_Fracture_Binary_Classification\\\\train\\\\{random_path}'\n",
    "\n",
    "# Klasördeki tüm dosyaları alın\n",
    "dosya_listesi = os.listdir(klasor_yolu)\n",
    "\n",
    "resimler = []\n",
    "for dosya in dosya_listesi:\n",
    "    if dosya.endswith('.png') or dosya.endswith('.jpg'):\n",
    "        resimler.append(dosya)\n",
    "\n",
    "random_img = random.sample(resimler, 5)\n",
    "\n",
    "# Resimleri görselleştirin\n",
    "for resim in random_img:\n",
    "    print(\"Path: \", random_path)\n",
    "    resim_yolu = os.path.join(klasor_yolu, resim)\n",
    "    img = plt.imread(resim_yolu)\n",
    "    plt.imshow(img)\n",
    "    plt.title(resim)  \n",
    "    plt.axis('off')  \n",
    "    plt.show()\n"
   ]
  },
  {
   "cell_type": "code",
   "execution_count": null,
   "metadata": {},
   "outputs": [],
   "source": [
    "train_data = ImageDataGenerator(shear_range=0.1,\n",
    "                                zoom_range=0.3,\n",
    "                                horizontal_flip=True,\n",
    "                                vertical_flip=True,\n",
    "                                rescale=1./255,)\n",
    "\n",
    "test_data = ImageDataGenerator(rescale=1./255)\n",
    "val_data = ImageDataGenerator(rescale=1./255)"
   ]
  },
  {
   "cell_type": "code",
   "execution_count": null,
   "metadata": {},
   "outputs": [],
   "source": [
    "train_data_gen = train_data.flow_from_directory(\n",
    "    directory=\"C:\\\\Users\\\\batuy\\Documents\\\\VS Code\\\\Bone_Fracture_Binary_Classification\\\\train\",\n",
    "    target_size=Img_size,\n",
    "    class_mode=\"binary\",\n",
    "    batch_size=64\n",
    ")"
   ]
  },
  {
   "cell_type": "code",
   "execution_count": null,
   "metadata": {},
   "outputs": [],
   "source": [
    "test_data_gen = train_data.flow_from_directory(\n",
    "    directory=\"C:\\\\Users\\\\batuy\\Documents\\\\VS Code\\\\Bone_Fracture_Binary_Classification\\\\test\",\n",
    "    target_size=Img_size,\n",
    "    class_mode=\"binary\",\n",
    "    batch_size=64\n",
    ")"
   ]
  },
  {
   "cell_type": "code",
   "execution_count": null,
   "metadata": {},
   "outputs": [],
   "source": [
    "val_data_gen = train_data.flow_from_directory(\n",
    "    directory=\"C:\\\\Users\\\\batuy\\Documents\\\\VS Code\\\\Bone_Fracture_Binary_Classification\\\\val\",\n",
    "    target_size=Img_size,\n",
    "    class_mode=\"binary\",\n",
    "    batch_size=64\n",
    ")"
   ]
  },
  {
   "cell_type": "code",
   "execution_count": null,
   "metadata": {},
   "outputs": [],
   "source": [
    "model_vgg = VGG16(input_shape=Img_size + [3], weights=\"imagenet\", include_top=False)"
   ]
  },
  {
   "cell_type": "code",
   "execution_count": null,
   "metadata": {},
   "outputs": [],
   "source": [
    "for layer in model_vgg.layers:\n",
    "    layer.trainble = False"
   ]
  },
  {
   "cell_type": "code",
   "execution_count": null,
   "metadata": {},
   "outputs": [],
   "source": [
    "x = model_vgg.output\n",
    "x = Flatten()(x)\n",
    "x = Dense(1024, activation=\"relu\")(x)\n",
    "x = Dense(520, activation=\"relu\")(x)\n",
    "x = Dropout(0.3)(x)\n",
    "x = Dense(124, activation=\"relu\")(x)\n",
    "prediction = Dense(1, activation=\"softmax\")(x)"
   ]
  },
  {
   "cell_type": "code",
   "execution_count": null,
   "metadata": {},
   "outputs": [],
   "source": [
    "model = Model(inputs = model_vgg.input, outputs=prediction)"
   ]
  },
  {
   "cell_type": "code",
   "execution_count": null,
   "metadata": {},
   "outputs": [],
   "source": [
    "callbacks_1 = ReduceLROnPlateau(monitor='val_accuracy', factor=0.3, min_lr=0.000001, patience=2)"
   ]
  },
  {
   "cell_type": "code",
   "execution_count": null,
   "metadata": {},
   "outputs": [],
   "source": [
    "model.compile(optimizer=\"adam\", loss=\"binary_crossentropy\", metrics=[\"accuracy\"])"
   ]
  },
  {
   "cell_type": "code",
   "execution_count": null,
   "metadata": {},
   "outputs": [],
   "source": [
    "fit_ = model.fit(train_data_gen, validation_data=val_data_gen, batch_size=928, epochs=50, callbacks=callbacks_1)"
   ]
  },
  {
   "cell_type": "code",
   "execution_count": null,
   "metadata": {},
   "outputs": [],
   "source": []
  }
 ],
 "metadata": {
  "kernelspec": {
   "display_name": "Python 3",
   "language": "python",
   "name": "python3"
  },
  "language_info": {
   "codemirror_mode": {
    "name": "ipython",
    "version": 3
   },
   "file_extension": ".py",
   "mimetype": "text/x-python",
   "name": "python",
   "nbconvert_exporter": "python",
   "pygments_lexer": "ipython3",
   "version": "3.11.6"
  }
 },
 "nbformat": 4,
 "nbformat_minor": 2
}
